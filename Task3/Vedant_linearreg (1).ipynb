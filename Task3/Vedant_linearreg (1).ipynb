{
 "cells": [
  {
   "cell_type": "code",
   "execution_count": 131,
   "id": "2ccb1b5e",
   "metadata": {},
   "outputs": [],
   "source": [
    "import numpy as np\n",
    "import pandas as pd\n",
    "import matplotlib.pyplot as plt"
   ]
  },
  {
   "cell_type": "code",
   "execution_count": 132,
   "id": "0d519f32",
   "metadata": {},
   "outputs": [],
   "source": [
    "data = pd.read_csv(r\"C:\\Users\\vedan\\Downloads\\linear_regression_dataset.csv\")"
   ]
  },
  {
   "cell_type": "code",
   "execution_count": 133,
   "id": "0c52f8b5",
   "metadata": {},
   "outputs": [
    {
     "data": {
      "text/html": [
       "<div>\n",
       "<style scoped>\n",
       "    .dataframe tbody tr th:only-of-type {\n",
       "        vertical-align: middle;\n",
       "    }\n",
       "\n",
       "    .dataframe tbody tr th {\n",
       "        vertical-align: top;\n",
       "    }\n",
       "\n",
       "    .dataframe thead th {\n",
       "        text-align: right;\n",
       "    }\n",
       "</style>\n",
       "<table border=\"1\" class=\"dataframe\">\n",
       "  <thead>\n",
       "    <tr style=\"text-align: right;\">\n",
       "      <th></th>\n",
       "      <th>AGE</th>\n",
       "      <th>FEMALE</th>\n",
       "      <th>LOS</th>\n",
       "      <th>RACE</th>\n",
       "      <th>APRDRG</th>\n",
       "      <th>TOTCHG</th>\n",
       "    </tr>\n",
       "  </thead>\n",
       "  <tbody>\n",
       "    <tr>\n",
       "      <th>0</th>\n",
       "      <td>17</td>\n",
       "      <td>1</td>\n",
       "      <td>2</td>\n",
       "      <td>1.0</td>\n",
       "      <td>560</td>\n",
       "      <td>2660</td>\n",
       "    </tr>\n",
       "    <tr>\n",
       "      <th>1</th>\n",
       "      <td>17</td>\n",
       "      <td>0</td>\n",
       "      <td>2</td>\n",
       "      <td>1.0</td>\n",
       "      <td>753</td>\n",
       "      <td>1689</td>\n",
       "    </tr>\n",
       "    <tr>\n",
       "      <th>2</th>\n",
       "      <td>17</td>\n",
       "      <td>1</td>\n",
       "      <td>7</td>\n",
       "      <td>1.0</td>\n",
       "      <td>930</td>\n",
       "      <td>20060</td>\n",
       "    </tr>\n",
       "    <tr>\n",
       "      <th>3</th>\n",
       "      <td>17</td>\n",
       "      <td>1</td>\n",
       "      <td>1</td>\n",
       "      <td>1.0</td>\n",
       "      <td>758</td>\n",
       "      <td>736</td>\n",
       "    </tr>\n",
       "    <tr>\n",
       "      <th>4</th>\n",
       "      <td>17</td>\n",
       "      <td>1</td>\n",
       "      <td>1</td>\n",
       "      <td>1.0</td>\n",
       "      <td>754</td>\n",
       "      <td>1194</td>\n",
       "    </tr>\n",
       "    <tr>\n",
       "      <th>...</th>\n",
       "      <td>...</td>\n",
       "      <td>...</td>\n",
       "      <td>...</td>\n",
       "      <td>...</td>\n",
       "      <td>...</td>\n",
       "      <td>...</td>\n",
       "    </tr>\n",
       "    <tr>\n",
       "      <th>495</th>\n",
       "      <td>0</td>\n",
       "      <td>1</td>\n",
       "      <td>6</td>\n",
       "      <td>1.0</td>\n",
       "      <td>636</td>\n",
       "      <td>5881</td>\n",
       "    </tr>\n",
       "    <tr>\n",
       "      <th>496</th>\n",
       "      <td>0</td>\n",
       "      <td>1</td>\n",
       "      <td>2</td>\n",
       "      <td>1.0</td>\n",
       "      <td>640</td>\n",
       "      <td>1171</td>\n",
       "    </tr>\n",
       "    <tr>\n",
       "      <th>497</th>\n",
       "      <td>0</td>\n",
       "      <td>1</td>\n",
       "      <td>2</td>\n",
       "      <td>1.0</td>\n",
       "      <td>640</td>\n",
       "      <td>1171</td>\n",
       "    </tr>\n",
       "    <tr>\n",
       "      <th>498</th>\n",
       "      <td>0</td>\n",
       "      <td>1</td>\n",
       "      <td>2</td>\n",
       "      <td>1.0</td>\n",
       "      <td>640</td>\n",
       "      <td>1086</td>\n",
       "    </tr>\n",
       "    <tr>\n",
       "      <th>499</th>\n",
       "      <td>0</td>\n",
       "      <td>0</td>\n",
       "      <td>4</td>\n",
       "      <td>1.0</td>\n",
       "      <td>640</td>\n",
       "      <td>4931</td>\n",
       "    </tr>\n",
       "  </tbody>\n",
       "</table>\n",
       "<p>500 rows × 6 columns</p>\n",
       "</div>"
      ],
      "text/plain": [
       "     AGE  FEMALE  LOS  RACE  APRDRG  TOTCHG\n",
       "0     17       1    2   1.0     560    2660\n",
       "1     17       0    2   1.0     753    1689\n",
       "2     17       1    7   1.0     930   20060\n",
       "3     17       1    1   1.0     758     736\n",
       "4     17       1    1   1.0     754    1194\n",
       "..   ...     ...  ...   ...     ...     ...\n",
       "495    0       1    6   1.0     636    5881\n",
       "496    0       1    2   1.0     640    1171\n",
       "497    0       1    2   1.0     640    1171\n",
       "498    0       1    2   1.0     640    1086\n",
       "499    0       0    4   1.0     640    4931\n",
       "\n",
       "[500 rows x 6 columns]"
      ]
     },
     "execution_count": 133,
     "metadata": {},
     "output_type": "execute_result"
    }
   ],
   "source": [
    "data"
   ]
  },
  {
   "cell_type": "code",
   "execution_count": 134,
   "id": "53cbfbf3",
   "metadata": {},
   "outputs": [
    {
     "name": "stdout",
     "output_type": "stream",
     "text": [
      "     AGE  FEMALE  LOS  RACE  APRDRG  TOTCHG\n",
      "0    1.7       1  0.2   1.0    5.60  0.2660\n",
      "1    1.7       0  0.2   1.0    7.53  0.1689\n",
      "2    1.7       1  0.7   1.0    9.30  2.0060\n",
      "3    1.7       1  0.1   1.0    7.58  0.0736\n",
      "4    1.7       1  0.1   1.0    7.54  0.1194\n",
      "..   ...     ...  ...   ...     ...     ...\n",
      "495  0.0       1  0.6   1.0    6.36  0.5881\n",
      "496  0.0       1  0.2   1.0    6.40  0.1171\n",
      "497  0.0       1  0.2   1.0    6.40  0.1171\n",
      "498  0.0       1  0.2   1.0    6.40  0.1086\n",
      "499  0.0       0  0.4   1.0    6.40  0.4931\n",
      "\n",
      "[500 rows x 6 columns]\n"
     ]
    }
   ],
   "source": [
    "data.fillna(data.mean(), inplace=True)\n",
    "data[\"APRDRG\"]/=100\n",
    "data[\"AGE\"]/=10\n",
    "data[\"LOS\"]/=10\n",
    "data[\"TOTCHG\"]/=10000\n",
    "print(data)\n",
    "train_data=data.values\n",
    "y =train_data[:,-1].reshape(train_data.shape[0],1)\n",
    "x=train_data[:,:-1]\n",
    "x=np.vstack((np.ones((x.shape[0],)),x.T)).T"
   ]
  },
  {
   "cell_type": "code",
   "execution_count": 152,
   "id": "d06ebeb5",
   "metadata": {},
   "outputs": [],
   "source": [
    "def model(x,y,rate,iteration):\n",
    "    m=y.size\n",
    "    theta=np.zeros((6,1))\n",
    "    global cost_list\n",
    "    cost_list=[]\n",
    "    for i in range(iteration):\n",
    "        y_pred=np.dot(x,theta)\n",
    "        cost=(1/(2*m))*np.sum(np.square(y_pred-y))\n",
    "        d_theta=(1/m)*np.dot(x.T,y_pred-y)\n",
    "        theta=theta-rate*d_theta\n",
    "        cost_list.append(cost)\n",
    "        if(i%(iteration/10)==0):\n",
    "            print(cost)\n",
    "    return theta,cost_list[0]\n",
    "\n"
   ]
  },
  {
   "cell_type": "code",
   "execution_count": 158,
   "id": "f372ab60",
   "metadata": {},
   "outputs": [
    {
     "name": "stdout",
     "output_type": "stream",
     "text": [
      "0.11393350599999999\n",
      "0.03366988179152898\n",
      "0.033669689408898626\n",
      "0.03366968939614461\n",
      "0.03366968939614378\n",
      "0.03366968939614377\n",
      "0.033669689396143766\n",
      "0.033669689396143766\n",
      "0.033669689396143766\n",
      "0.033669689396143766\n",
      "(array([[ 0.52187633],\n",
      "       [ 0.13467772],\n",
      "       [-0.03904095],\n",
      "       [ 0.74313982],\n",
      "       [-0.02124165],\n",
      "       [-0.07790963]]), 0.11393350599999999)\n"
     ]
    }
   ],
   "source": [
    "print(model(x,y,0.01,100000))"
   ]
  },
  {
   "cell_type": "code",
   "execution_count": 159,
   "id": "b36b8101",
   "metadata": {},
   "outputs": [
    {
     "data": {
      "image/png": "[encoded data removed]",
      "text/plain": [
       "<Figure size 640x480 with 1 Axes>"
      ]
     },
     "metadata": {},
     "output_type": "display_data"
    }
   ],
   "source": [
    "rng=np.arange(0,100000)\n",
    "plt.plot(rng,cost_list)\n",
    "plt.show()"
   ]
  },
  {
   "cell_type": "code",
   "execution_count": null,
   "id": "2ef2f347",
   "metadata": {},
   "outputs": [],
   "source": []
  },
  {
   "cell_type": "code",
   "execution_count": null,
   "id": "25789862",
   "metadata": {},
   "outputs": [],
   "source": []
  },
  {
   "cell_type": "code",
   "execution_count": null,
   "id": "6f1de4d6",
   "metadata": {},
   "outputs": [],
   "source": []
  },
  {
   "cell_type": "code",
   "execution_count": null,
   "id": "6f4a6ee0",
   "metadata": {},
   "outputs": [],
   "source": []
  }
 ],
 "metadata": {
  "kernelspec": {
   "display_name": "Python 3 (ipykernel)",
   "language": "python",
   "name": "python3"
  },
  "language_info": {
   "codemirror_mode": {
    "name": "ipython",
    "version": 3
   },
   "file_extension": ".py",
   "mimetype": "text/x-python",
   "name": "python",
   "nbconvert_exporter": "python",
   "pygments_lexer": "ipython3",
   "version": "3.11.5"
  }
 },
 "nbformat": 4,
 "nbformat_minor": 5
}
