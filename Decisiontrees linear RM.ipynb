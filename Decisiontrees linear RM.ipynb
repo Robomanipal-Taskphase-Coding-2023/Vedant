{
 "cells": [
  {
   "cell_type": "code",
   "execution_count": 1,
   "id": "0cf01eea",
   "metadata": {},
   "outputs": [],
   "source": [
    "import pandas as pd\n",
    "import numpy as np\n",
    "from sklearn.tree import DecisionTreeRegressor\n",
    "from sklearn.model_selection import train_test_split\n",
    "from sklearn.metrics import mean_squared_error\n",
    "from sklearn.metrics import r2_score"
   ]
  },
  {
   "cell_type": "code",
   "execution_count": 2,
   "id": "d50ae2d2",
   "metadata": {},
   "outputs": [
    {
     "name": "stdout",
     "output_type": "stream",
     "text": [
      "     AGE  FEMALE  LOS  RACE  APRDRG  TOTCHG\n",
      "0    1.7       1  0.2   1.0    5.60  0.2660\n",
      "1    1.7       0  0.2   1.0    7.53  0.1689\n",
      "2    1.7       1  0.7   1.0    9.30  2.0060\n",
      "3    1.7       1  0.1   1.0    7.58  0.0736\n",
      "4    1.7       1  0.1   1.0    7.54  0.1194\n",
      "..   ...     ...  ...   ...     ...     ...\n",
      "495  0.0       1  0.6   1.0    6.36  0.5881\n",
      "496  0.0       1  0.2   1.0    6.40  0.1171\n",
      "497  0.0       1  0.2   1.0    6.40  0.1171\n",
      "498  0.0       1  0.2   1.0    6.40  0.1086\n",
      "499  0.0       0  0.4   1.0    6.40  0.4931\n",
      "\n",
      "[500 rows x 6 columns]\n"
     ]
    }
   ],
   "source": [
    "data = pd.read_csv(r\"C:\\Users\\vedan\\Downloads\\linear_regression_dataset.csv\")\n",
    "data.fillna(data.mean(), inplace=True)\n",
    "data[\"APRDRG\"]/=100\n",
    "data[\"AGE\"]/=10\n",
    "data[\"LOS\"]/=10\n",
    "data[\"TOTCHG\"]/=10000\n",
    "print(data)\n",
    "train_data=data.values\n",
    "y =train_data[:,-1].reshape(train_data.shape[0],1)\n",
    "x=train_data[:,:-1]\n",
    "x=np.vstack((np.ones((x.shape[0],)),x.T)).T"
   ]
  },
  {
   "cell_type": "code",
   "execution_count": 3,
   "id": "5a90bbce",
   "metadata": {},
   "outputs": [
    {
     "name": "stdout",
     "output_type": "stream",
     "text": [
      "Mean Squared Error: 0.11252035710016488\n",
      "-0.23208442623790115\n"
     ]
    }
   ],
   "source": [
    "X_train, X_test, y_train, y_test = train_test_split(x, y, test_size=0.2, random_state=42)\n",
    "\n",
    "regressor = DecisionTreeRegressor(random_state=0)\n",
    "regressor.fit(X_train, y_train)\n",
    "y_pred = regressor.predict(X_test)\n",
    "mse = mean_squared_error(y_test, y_pred)\n",
    "print(\"Mean Squared Error:\", mse)\n",
    "r2 = r2_score(y_test, y_pred)\n",
    "print(r2)"
   ]
  },
  {
   "cell_type": "code",
   "execution_count": null,
   "id": "6700f417",
   "metadata": {},
   "outputs": [],
   "source": []
  }
 ],
 "metadata": {
  "kernelspec": {
   "display_name": "Python 3 (ipykernel)",
   "language": "python",
   "name": "python3"
  },
  "language_info": {
   "codemirror_mode": {
    "name": "ipython",
    "version": 3
   },
   "file_extension": ".py",
   "mimetype": "text/x-python",
   "name": "python",
   "nbconvert_exporter": "python",
   "pygments_lexer": "ipython3",
   "version": "3.11.5"
  }
 },
 "nbformat": 4,
 "nbformat_minor": 5
}
