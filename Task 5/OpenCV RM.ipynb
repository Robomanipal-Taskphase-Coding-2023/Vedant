{
 "cells": [
  {
   "cell_type": "code",
   "execution_count": 2,
   "id": "5dcebab2",
   "metadata": {},
   "outputs": [],
   "source": [
    "import cv2\n",
    "import numpy as np"
   ]
  },
  {
   "cell_type": "code",
   "execution_count": 10,
   "id": "e8bdb5da",
   "metadata": {
    "scrolled": true
   },
   "outputs": [],
   "source": [
    "cap = cv2.VideoCapture(r\"C:\\Users\\vedan\\Downloads\\7-Year-Old Phenom Displays Elite Basketball Skills.mp4\")\n",
    "\n",
    "lower_color = np.array([0, 100, 100])\n",
    "upper_color = np.array([20, 145, 175])\n",
    "\n",
    "\n",
    "pts = []\n",
    "\n",
    "while True:\n",
    "    ret, frame = cap.read()\n",
    "    if not ret:\n",
    "        break\n",
    "    hsv = cv2.cvtColor(frame, cv2.COLOR_BGR2HSV)\n",
    "\n",
    "    mask = cv2.inRange(hsv, lower_color, upper_color)\n",
    "\n",
    "    mask = cv2.erode(mask, None, iterations=2)\n",
    "    mask = cv2.dilate(mask, None, iterations=2)\n",
    "\n",
    "    contours, _ = cv2.findContours(mask, cv2.RETR_EXTERNAL, cv2.CHAIN_APPROX_SIMPLE)\n",
    "\n",
    "    if contours:\n",
    "        c = max(contours, key=cv2.contourArea)\n",
    "        M = cv2.moments(c)\n",
    "        cx = int(M[\"m10\"] / M[\"m00\"])\n",
    "        cy = int(M[\"m01\"] / M[\"m00\"])\n",
    "\n",
    "        cv2.circle(frame, (cx, cy), 5, (0, 0, 255), -1)\n",
    "\n",
    "        pts.append((cx, cy))\n",
    "\n",
    "        for i in range(1, len(pts)):\n",
    "            if pts[i - 1] is not None and pts[i] is not None:\n",
    "                cv2.line(frame, pts[i - 1], pts[i], (0, 255, 0), 2)\n",
    "    cv2.imshow(\"Frame\", frame)\n",
    "\n",
    "    if cv2.waitKey(30) == ord(\"q\"):\n",
    "        break\n",
    "\n",
    "cap.release()\n",
    "cv2.destroyAllWindows()"
   ]
  },
  {
   "cell_type": "code",
   "execution_count": 6,
   "id": "900a23a5",
   "metadata": {},
   "outputs": [
    {
     "name": "stdout",
     "output_type": "stream",
     "text": [
      "Note: you may need to restart the kernel to use updated packages.\n"
     ]
    },
    {
     "name": "stderr",
     "output_type": "stream",
     "text": [
      "WARNING: Requirement 'opencv-python-x.x.x-win-amd64.whl' looks like a filename, but the file does not exist\n",
      "ERROR: opencv-python-x.x.x-win-amd64.whl is not a supported wheel on this platform.\n"
     ]
    }
   ],
   "source": [
    "pip install opencv-python-x.x.x-win-amd64.whl"
   ]
  },
  {
   "cell_type": "code",
   "execution_count": null,
   "id": "940e55b1",
   "metadata": {},
   "outputs": [],
   "source": []
  }
 ],
 "metadata": {
  "kernelspec": {
   "display_name": "Python 3 (ipykernel)",
   "language": "python",
   "name": "python3"
  },
  "language_info": {
   "codemirror_mode": {
    "name": "ipython",
    "version": 3
   },
   "file_extension": ".py",
   "mimetype": "text/x-python",
   "name": "python",
   "nbconvert_exporter": "python",
   "pygments_lexer": "ipython3",
   "version": "3.11.5"
  }
 },
 "nbformat": 4,
 "nbformat_minor": 5
}
